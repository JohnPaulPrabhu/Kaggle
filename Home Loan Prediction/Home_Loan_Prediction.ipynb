{
  "nbformat": 4,
  "nbformat_minor": 0,
  "metadata": {
    "colab": {
      "name": "HOME_KAGGLE_UDACITY.ipynb",
      "provenance": [],
      "collapsed_sections": [],
      "mount_file_id": "19bHzUNZ_O_KrW68MgZf-cmz9a_oq-bSz",
      "authorship_tag": "ABX9TyOfaIlIsTkv7KTjwNdf/KXS",
      "include_colab_link": true
    },
    "kernelspec": {
      "name": "python3",
      "display_name": "Python 3"
    },
    "language_info": {
      "name": "python"
    }
  },
  "cells": [
    {
      "cell_type": "markdown",
      "metadata": {
        "id": "view-in-github",
        "colab_type": "text"
      },
      "source": [
        "<a href=\"https://colab.research.google.com/github/JohnPaulPrabhu/Kaggle/blob/master/Home_Loan_Prediction.ipynb\" target=\"_parent\"><img src=\"https://colab.research.google.com/assets/colab-badge.svg\" alt=\"Open In Colab\"/></a>"
      ]
    },
    {
      "cell_type": "markdown",
      "metadata": {
        "id": "XbgOLfQpOTXk"
      },
      "source": [
        "**Import All the necessary Packages**"
      ]
    },
    {
      "cell_type": "code",
      "metadata": {
        "id": "f-jLJu6apCnB"
      },
      "source": [
        "import pandas as pd\n",
        "import numpy as np\n",
        "import seaborn as sns\n",
        "import matplotlib.pyplot as plt\n",
        "from sklearn.impute import SimpleImputer\n",
        "from sklearn.compose import ColumnTransformer\n",
        "from sklearn.pipeline import Pipeline\n",
        "from sklearn.preprocessing import StandardScaler, OneHotEncoder\n",
        "from sklearn.linear_model import LogisticRegression\n",
        "from sklearn.model_selection import train_test_split, GridSearchCV\n",
        "from sklearn.neighbors import KNeighborsClassifier\n",
        "from sklearn.tree import DecisionTreeClassifier\n",
        "from sklearn.svm import SVC\n",
        "from sklearn.naive_bayes import GaussianNB\n",
        "from sklearn import metrics"
      ],
      "execution_count": 1,
      "outputs": []
    },
    {
      "cell_type": "markdown",
      "metadata": {
        "id": "oGkrL5tFPW-9"
      },
      "source": [
        "**Read data**"
      ]
    },
    {
      "cell_type": "code",
      "metadata": {
        "id": "qmfEVTnppCVp"
      },
      "source": [
        "train = pd.read_csv('/content/drive/MyDrive/Colab Notebooks/Udacity/Linear Regression/train/Train_Loan_Home.csv')\n",
        "test = pd.read_csv('/content/drive/MyDrive/Colab Notebooks/Udacity/Linear Regression/train/Test_Loan_Home.csv')"
      ],
      "execution_count": 3,
      "outputs": []
    },
    {
      "cell_type": "code",
      "metadata": {
        "colab": {
          "base_uri": "https://localhost:8080/",
          "height": 203
        },
        "id": "E95JFBqGPJ6H",
        "outputId": "7c76224a-4eb1-4459-8a4e-2a3808285223"
      },
      "source": [
        "train.head()"
      ],
      "execution_count": 4,
      "outputs": [
        {
          "output_type": "execute_result",
          "data": {
            "text/html": [
              "<div>\n",
              "<style scoped>\n",
              "    .dataframe tbody tr th:only-of-type {\n",
              "        vertical-align: middle;\n",
              "    }\n",
              "\n",
              "    .dataframe tbody tr th {\n",
              "        vertical-align: top;\n",
              "    }\n",
              "\n",
              "    .dataframe thead th {\n",
              "        text-align: right;\n",
              "    }\n",
              "</style>\n",
              "<table border=\"1\" class=\"dataframe\">\n",
              "  <thead>\n",
              "    <tr style=\"text-align: right;\">\n",
              "      <th></th>\n",
              "      <th>Loan_ID</th>\n",
              "      <th>Gender</th>\n",
              "      <th>Married</th>\n",
              "      <th>Dependents</th>\n",
              "      <th>Education</th>\n",
              "      <th>Self_Employed</th>\n",
              "      <th>ApplicantIncome</th>\n",
              "      <th>CoapplicantIncome</th>\n",
              "      <th>LoanAmount</th>\n",
              "      <th>Loan_Amount_Term</th>\n",
              "      <th>Credit_History</th>\n",
              "      <th>Property_Area</th>\n",
              "      <th>Loan_Status</th>\n",
              "    </tr>\n",
              "  </thead>\n",
              "  <tbody>\n",
              "    <tr>\n",
              "      <th>0</th>\n",
              "      <td>LP001002</td>\n",
              "      <td>Male</td>\n",
              "      <td>No</td>\n",
              "      <td>0</td>\n",
              "      <td>Graduate</td>\n",
              "      <td>No</td>\n",
              "      <td>5849</td>\n",
              "      <td>0.0</td>\n",
              "      <td>NaN</td>\n",
              "      <td>360.0</td>\n",
              "      <td>1.0</td>\n",
              "      <td>Urban</td>\n",
              "      <td>Y</td>\n",
              "    </tr>\n",
              "    <tr>\n",
              "      <th>1</th>\n",
              "      <td>LP001003</td>\n",
              "      <td>Male</td>\n",
              "      <td>Yes</td>\n",
              "      <td>1</td>\n",
              "      <td>Graduate</td>\n",
              "      <td>No</td>\n",
              "      <td>4583</td>\n",
              "      <td>1508.0</td>\n",
              "      <td>128.0</td>\n",
              "      <td>360.0</td>\n",
              "      <td>1.0</td>\n",
              "      <td>Rural</td>\n",
              "      <td>N</td>\n",
              "    </tr>\n",
              "    <tr>\n",
              "      <th>2</th>\n",
              "      <td>LP001005</td>\n",
              "      <td>Male</td>\n",
              "      <td>Yes</td>\n",
              "      <td>0</td>\n",
              "      <td>Graduate</td>\n",
              "      <td>Yes</td>\n",
              "      <td>3000</td>\n",
              "      <td>0.0</td>\n",
              "      <td>66.0</td>\n",
              "      <td>360.0</td>\n",
              "      <td>1.0</td>\n",
              "      <td>Urban</td>\n",
              "      <td>Y</td>\n",
              "    </tr>\n",
              "    <tr>\n",
              "      <th>3</th>\n",
              "      <td>LP001006</td>\n",
              "      <td>Male</td>\n",
              "      <td>Yes</td>\n",
              "      <td>0</td>\n",
              "      <td>Not Graduate</td>\n",
              "      <td>No</td>\n",
              "      <td>2583</td>\n",
              "      <td>2358.0</td>\n",
              "      <td>120.0</td>\n",
              "      <td>360.0</td>\n",
              "      <td>1.0</td>\n",
              "      <td>Urban</td>\n",
              "      <td>Y</td>\n",
              "    </tr>\n",
              "    <tr>\n",
              "      <th>4</th>\n",
              "      <td>LP001008</td>\n",
              "      <td>Male</td>\n",
              "      <td>No</td>\n",
              "      <td>0</td>\n",
              "      <td>Graduate</td>\n",
              "      <td>No</td>\n",
              "      <td>6000</td>\n",
              "      <td>0.0</td>\n",
              "      <td>141.0</td>\n",
              "      <td>360.0</td>\n",
              "      <td>1.0</td>\n",
              "      <td>Urban</td>\n",
              "      <td>Y</td>\n",
              "    </tr>\n",
              "  </tbody>\n",
              "</table>\n",
              "</div>"
            ],
            "text/plain": [
              "    Loan_ID Gender Married  ... Credit_History Property_Area Loan_Status\n",
              "0  LP001002   Male      No  ...            1.0         Urban           Y\n",
              "1  LP001003   Male     Yes  ...            1.0         Rural           N\n",
              "2  LP001005   Male     Yes  ...            1.0         Urban           Y\n",
              "3  LP001006   Male     Yes  ...            1.0         Urban           Y\n",
              "4  LP001008   Male      No  ...            1.0         Urban           Y\n",
              "\n",
              "[5 rows x 13 columns]"
            ]
          },
          "metadata": {
            "tags": []
          },
          "execution_count": 4
        }
      ]
    },
    {
      "cell_type": "markdown",
      "metadata": {
        "id": "-HpMq7QuPw5E"
      },
      "source": [
        "Data preprocessing"
      ]
    },
    {
      "cell_type": "markdown",
      "metadata": {
        "id": "fKWwsJjSP1DZ"
      },
      "source": [
        "**Remove unwanted features**\n",
        "\n",
        "\n",
        "*   Since **Loan_ID** doesn't have any proper info for our model We should remove it\n",
        "*   I believe most of the bank verify your source of income and Salary range. So we don't need Education details\n",
        "\n"
      ]
    },
    {
      "cell_type": "code",
      "metadata": {
        "id": "cyEAtYARP0M0"
      },
      "source": [
        "train.drop(['Loan_ID','Education'],axis=1,inplace=True)"
      ],
      "execution_count": 7,
      "outputs": []
    },
    {
      "cell_type": "code",
      "metadata": {
        "colab": {
          "base_uri": "https://localhost:8080/"
        },
        "id": "veq3v5DcWq-C",
        "outputId": "ef777c83-a921-4109-b65b-d1daee683ffb"
      },
      "source": [
        "train.info()"
      ],
      "execution_count": 8,
      "outputs": [
        {
          "output_type": "stream",
          "text": [
            "<class 'pandas.core.frame.DataFrame'>\n",
            "RangeIndex: 614 entries, 0 to 613\n",
            "Data columns (total 11 columns):\n",
            " #   Column             Non-Null Count  Dtype  \n",
            "---  ------             --------------  -----  \n",
            " 0   Gender             601 non-null    object \n",
            " 1   Married            611 non-null    object \n",
            " 2   Dependents         599 non-null    object \n",
            " 3   Self_Employed      582 non-null    object \n",
            " 4   ApplicantIncome    614 non-null    int64  \n",
            " 5   CoapplicantIncome  614 non-null    float64\n",
            " 6   LoanAmount         592 non-null    float64\n",
            " 7   Loan_Amount_Term   600 non-null    float64\n",
            " 8   Credit_History     564 non-null    float64\n",
            " 9   Property_Area      614 non-null    object \n",
            " 10  Loan_Status        614 non-null    object \n",
            "dtypes: float64(4), int64(1), object(6)\n",
            "memory usage: 52.9+ KB\n"
          ],
          "name": "stdout"
        }
      ]
    },
    {
      "cell_type": "markdown",
      "metadata": {
        "id": "Eqfj3oFVaj7-"
      },
      "source": [
        "As we can see above there are some Features has some NaN values. We can either remove them or Impute the missing values with Mean/Most frequent values."
      ]
    },
    {
      "cell_type": "code",
      "metadata": {
        "id": "7REWeFu6uF4h"
      },
      "source": [
        "# I used the simple imputer to impute the missing values\n",
        "imp1 = SimpleImputer(strategy=\"most_frequent\")\n",
        "imp2 = SimpleImputer(strategy=\"mean\")\n",
        "x = imp1.fit_transform(train[['Gender','Married','Dependents','Self_Employed','Credit_History','Loan_Amount_Term']])\n",
        "y = imp2.fit_transform(train[['LoanAmount']])\n",
        "xx = pd.DataFrame(x,columns=['Gender','Married','Dependents','Self_Employed','Credit_History','Loan_Amount_Term'])\n",
        "yy = pd.DataFrame(y, columns=['LoanAmount'])\n",
        "\n",
        "# concatenate the imputed values into one single dataframe\n",
        "data = pd.concat([xx, yy,train[['ApplicantIncome','CoapplicantIncome','Property_Area','Loan_Status']]], axis=1)"
      ],
      "execution_count": 9,
      "outputs": []
    },
    {
      "cell_type": "code",
      "metadata": {
        "colab": {
          "base_uri": "https://localhost:8080/"
        },
        "id": "g-l5vkmGtZ3p",
        "outputId": "0fcf5ac6-19f3-406a-d0f0-cd5f11ffa942"
      },
      "source": [
        "data.info()"
      ],
      "execution_count": 10,
      "outputs": [
        {
          "output_type": "stream",
          "text": [
            "<class 'pandas.core.frame.DataFrame'>\n",
            "RangeIndex: 614 entries, 0 to 613\n",
            "Data columns (total 11 columns):\n",
            " #   Column             Non-Null Count  Dtype  \n",
            "---  ------             --------------  -----  \n",
            " 0   Gender             614 non-null    object \n",
            " 1   Married            614 non-null    object \n",
            " 2   Dependents         614 non-null    object \n",
            " 3   Self_Employed      614 non-null    object \n",
            " 4   Credit_History     614 non-null    object \n",
            " 5   Loan_Amount_Term   614 non-null    object \n",
            " 6   LoanAmount         614 non-null    float64\n",
            " 7   ApplicantIncome    614 non-null    int64  \n",
            " 8   CoapplicantIncome  614 non-null    float64\n",
            " 9   Property_Area      614 non-null    object \n",
            " 10  Loan_Status        614 non-null    object \n",
            "dtypes: float64(2), int64(1), object(8)\n",
            "memory usage: 52.9+ KB\n"
          ],
          "name": "stdout"
        }
      ]
    },
    {
      "cell_type": "markdown",
      "metadata": {
        "id": "mkbMrwGasgv1"
      },
      "source": [
        "We have imputed the NaN values. Now we have to scale the numerical values to get the better performance"
      ]
    },
    {
      "cell_type": "code",
      "metadata": {
        "id": "EURBOXquRxD9"
      },
      "source": [
        "scaler = StandardScaler()\n",
        "scaled_data_num = scaler.fit_transform(data[['LoanAmount','ApplicantIncome','CoapplicantIncome']])\n",
        "for i in ['LoanAmount','ApplicantIncome','CoapplicantIncome']:\n",
        "  data[i] = scaler.fit_transform(data[[i]])"
      ],
      "execution_count": 11,
      "outputs": []
    },
    {
      "cell_type": "markdown",
      "metadata": {
        "id": "Zrnh4l-wswR8"
      },
      "source": [
        "Next we need to convert the categorical data into numerical data since our model cannot interpret the categorical values"
      ]
    },
    {
      "cell_type": "code",
      "metadata": {
        "id": "L7RSXbl7RxBQ"
      },
      "source": [
        "from sklearn import preprocessing\n",
        "le = preprocessing.LabelEncoder()\n",
        "# scaled_data_cat = le.fit_transform(data[['Gender','Married','Dependents','Self_Employed','Credit_History','Loan_Amount_Term','Property_Area','Loan_Status']])\n",
        "# df[categ] = df[categ].apply(le.fit_transform)\n",
        "# data[['Gender','Married','Dependents','Self_Employed','Credit_History','Loan_Amount_Term','Property_Area','Loan_Status']] =\n",
        "for i in ['Gender','Married','Dependents','Self_Employed','Credit_History','Loan_Amount_Term','Property_Area','Loan_Status']:\n",
        "  data[i] = le.fit_transform(data[i])\n"
      ],
      "execution_count": 12,
      "outputs": []
    },
    {
      "cell_type": "markdown",
      "metadata": {
        "id": "fNZZ5TwWtMcN"
      },
      "source": [
        "All the basic preprocess has been done. Next we nedd to split the data into training and testing"
      ]
    },
    {
      "cell_type": "code",
      "metadata": {
        "colab": {
          "base_uri": "https://localhost:8080/"
        },
        "id": "VybMp7LLrr6B",
        "outputId": "b86bea38-85f0-4d6d-ee87-8c83b1e94d51"
      },
      "source": [
        "x = data.drop(['Loan_Status'],axis=1)\n",
        "y = data.Loan_Status\n",
        "train_x, test_x, train_y, test_y = train_test_split(x,y,random_state = 0)\n",
        "print(train_x.shape)\n",
        "print(train_y.shape)\n",
        "print(test_x.shape)\n",
        "print(test_y.shape)"
      ],
      "execution_count": 14,
      "outputs": [
        {
          "output_type": "stream",
          "text": [
            "(460, 10)\n",
            "(460,)\n",
            "(154, 10)\n",
            "(154,)\n"
          ],
          "name": "stdout"
        }
      ]
    },
    {
      "cell_type": "markdown",
      "metadata": {
        "id": "ZlNCBdAitVn3"
      },
      "source": [
        "Next step is to create our model. Here i tested several model since one model cannot fit to all the problems."
      ]
    },
    {
      "cell_type": "markdown",
      "metadata": {
        "id": "9KU43BaOu-ln"
      },
      "source": [
        "**Logistic Regression**"
      ]
    },
    {
      "cell_type": "code",
      "metadata": {
        "colab": {
          "base_uri": "https://localhost:8080/"
        },
        "id": "-NaTmc08tL5r",
        "outputId": "6a3dc188-0508-4ae2-b116-b624ffff12ae"
      },
      "source": [
        "lgstRgr = LogisticRegression()\n",
        "lgstRgr.fit(train_x,train_y)\n",
        "y_pred = lgstRgr.predict(test_x)\n",
        "accuracy = metrics.accuracy_score(test_y, y_pred)\n",
        "accuracy_percentage = 100 * accuracy\n",
        "accuracy_percentage"
      ],
      "execution_count": 15,
      "outputs": [
        {
          "output_type": "execute_result",
          "data": {
            "text/plain": [
              "83.76623376623377"
            ]
          },
          "metadata": {
            "tags": []
          },
          "execution_count": 15
        }
      ]
    },
    {
      "cell_type": "code",
      "metadata": {
        "colab": {
          "base_uri": "https://localhost:8080/"
        },
        "id": "bLBOl8zevLZf",
        "outputId": "02c87fde-4f60-4aa7-bada-fc1c6fa5261c"
      },
      "source": [
        "knn = KNeighborsClassifier(n_neighbors=12)\n",
        "knn.fit(train_x,train_y)\n",
        "y_pred = knn.predict(test_x)\n",
        "accuracy = metrics.accuracy_score(test_y, y_pred)\n",
        "accuracy_percentage = 100 * accuracy\n",
        "accuracy_percentage"
      ],
      "execution_count": 16,
      "outputs": [
        {
          "output_type": "execute_result",
          "data": {
            "text/plain": [
              "80.51948051948052"
            ]
          },
          "metadata": {
            "tags": []
          },
          "execution_count": 16
        }
      ]
    },
    {
      "cell_type": "code",
      "metadata": {
        "colab": {
          "base_uri": "https://localhost:8080/"
        },
        "id": "OD3dDf5_vLWr",
        "outputId": "983eb4f5-1f17-4490-87cf-1a856006cde8"
      },
      "source": [
        "dtree = DecisionTreeClassifier(max_depth=1)\n",
        "dtree.fit(train_x,train_y)\n",
        "y_pred = dtree.predict(test_x)\n",
        "accuracy = metrics.accuracy_score(test_y, y_pred)\n",
        "accuracy_percentage = 100 * accuracy\n",
        "accuracy_percentage"
      ],
      "execution_count": 17,
      "outputs": [
        {
          "output_type": "execute_result",
          "data": {
            "text/plain": [
              "83.11688311688312"
            ]
          },
          "metadata": {
            "tags": []
          },
          "execution_count": 17
        }
      ]
    },
    {
      "cell_type": "code",
      "metadata": {
        "colab": {
          "base_uri": "https://localhost:8080/"
        },
        "id": "1wT1-fLsvLMd",
        "outputId": "3c23a62c-985f-4cc8-ddf0-7a4159bd472e"
      },
      "source": [
        "svc = SVC()\n",
        "svc.fit(train_x,train_y)\n",
        "y_pred = svc.predict(test_x)\n",
        "accuracy = metrics.accuracy_score(test_y, y_pred)\n",
        "accuracy_percentage = 100 * accuracy\n",
        "accuracy_percentage"
      ],
      "execution_count": 18,
      "outputs": [
        {
          "output_type": "execute_result",
          "data": {
            "text/plain": [
              "83.76623376623377"
            ]
          },
          "metadata": {
            "tags": []
          },
          "execution_count": 18
        }
      ]
    },
    {
      "cell_type": "code",
      "metadata": {
        "colab": {
          "base_uri": "https://localhost:8080/"
        },
        "id": "ocMfjQzExMmH",
        "outputId": "0c0e8dd6-c1c9-444a-f1cb-055617dd0155"
      },
      "source": [
        "nb = GaussianNB()\n",
        "nb.fit(train_x,train_y)\n",
        "y_pred = nb.predict(test_x)\n",
        "accuracy = metrics.accuracy_score(test_y, y_pred)\n",
        "accuracy_percentage = 100 * accuracy\n",
        "accuracy_percentage"
      ],
      "execution_count": 19,
      "outputs": [
        {
          "output_type": "execute_result",
          "data": {
            "text/plain": [
              "82.46753246753246"
            ]
          },
          "metadata": {
            "tags": []
          },
          "execution_count": 19
        }
      ]
    },
    {
      "cell_type": "markdown",
      "metadata": {
        "id": "N2qzfXDqt0m8"
      },
      "source": [
        "As we can see above Logistic Regression and SVC gives the better accuracy than the rest of the model"
      ]
    }
  ]
}
